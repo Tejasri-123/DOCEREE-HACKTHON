{
 "cells": [
  {
   "cell_type": "markdown",
   "id": "1ee523fd",
   "metadata": {},
   "source": [
    "## Identifying Healthcare Professionals (HCP) and their specialization"
   ]
  },
  {
   "cell_type": "markdown",
   "id": "6a26a285",
   "metadata": {},
   "source": [
    "### Importing the necessary libraries"
   ]
  },
  {
   "cell_type": "code",
   "execution_count": 1,
   "id": "ac0a14e6",
   "metadata": {},
   "outputs": [],
   "source": [
    "import pandas as pd\n",
    "import numpy as np\n",
    "import matplotlib.pyplot as plt\n",
    "import seaborn as sns\n",
    "from user_agents import parse\n",
    "from sklearn.model_selection import train_test_split\n",
    "from sklearn.feature_extraction.text import CountVectorizer\n",
    "from sklearn.preprocessing import LabelEncoder\n",
    "from sklearn.ensemble import RandomForestClassifier\n",
    "from sklearn.metrics import accuracy_score,recall_score,precision_score"
   ]
  },
  {
   "cell_type": "markdown",
   "id": "b8d8d77c",
   "metadata": {},
   "source": [
    "### Load the train and test data"
   ]
  },
  {
   "cell_type": "code",
   "execution_count": 2,
   "id": "0ae4c852",
   "metadata": {},
   "outputs": [],
   "source": [
    "train_df = pd.read_csv(\"Doceree-HCP_Train.csv\")\n",
    "test_df = pd.read_csv(\"Doceree-HCP_Test.csv\")"
   ]
  },
  {
   "cell_type": "code",
   "execution_count": 3,
   "id": "70d99beb",
   "metadata": {},
   "outputs": [
    {
     "data": {
      "text/html": [
       "<div>\n",
       "<style scoped>\n",
       "    .dataframe tbody tr th:only-of-type {\n",
       "        vertical-align: middle;\n",
       "    }\n",
       "\n",
       "    .dataframe tbody tr th {\n",
       "        vertical-align: top;\n",
       "    }\n",
       "\n",
       "    .dataframe thead th {\n",
       "        text-align: right;\n",
       "    }\n",
       "</style>\n",
       "<table border=\"1\" class=\"dataframe\">\n",
       "  <thead>\n",
       "    <tr style=\"text-align: right;\">\n",
       "      <th></th>\n",
       "      <th>ID</th>\n",
       "      <th>DEVICETYPE</th>\n",
       "      <th>PLATFORM_ID</th>\n",
       "      <th>BIDREQUESTIP</th>\n",
       "      <th>USERPLATFORMUID</th>\n",
       "      <th>USERCITY</th>\n",
       "      <th>USERZIPCODE</th>\n",
       "      <th>USERAGENT</th>\n",
       "      <th>PLATFORMTYPE</th>\n",
       "      <th>CHANNELTYPE</th>\n",
       "      <th>URL</th>\n",
       "      <th>KEYWORDS</th>\n",
       "      <th>TAXONOMY</th>\n",
       "      <th>IS_HCP</th>\n",
       "    </tr>\n",
       "  </thead>\n",
       "  <tbody>\n",
       "    <tr>\n",
       "      <th>0</th>\n",
       "      <td>1001</td>\n",
       "      <td>Desktop</td>\n",
       "      <td>2</td>\n",
       "      <td>170.173.0.22</td>\n",
       "      <td>6974dcaa-f932-480e-9fb5-c52e20e1393a</td>\n",
       "      <td>Portland</td>\n",
       "      <td>97206.0</td>\n",
       "      <td>Mozilla/5.0 (Windows NT 10.0; Win64; x64) Appl...</td>\n",
       "      <td>Online Medical Journal</td>\n",
       "      <td>Website</td>\n",
       "      <td>https://www.cancertherapyadvisor.com/home/canc...</td>\n",
       "      <td>General|Endocrine|False|Medicine|Surgery|Urolo...</td>\n",
       "      <td>NaN</td>\n",
       "      <td>0.0</td>\n",
       "    </tr>\n",
       "    <tr>\n",
       "      <th>1</th>\n",
       "      <td>1002</td>\n",
       "      <td>Desktop</td>\n",
       "      <td>2</td>\n",
       "      <td>65.216.253.25</td>\n",
       "      <td>c12f3f8f-8fcf-484a-90e1-1ac04db8cdcf</td>\n",
       "      <td>Arlington</td>\n",
       "      <td>22202.0</td>\n",
       "      <td>Mozilla/5.0 (Macintosh; Intel Mac OS X 10_15_7...</td>\n",
       "      <td>Online Medical Journal</td>\n",
       "      <td>Website</td>\n",
       "      <td>https://www.cancertherapyadvisor.com/home/deci...</td>\n",
       "      <td>Bone Marrow|Radiography|Chronic|Oncology|Psych...</td>\n",
       "      <td>NaN</td>\n",
       "      <td>0.0</td>\n",
       "    </tr>\n",
       "    <tr>\n",
       "      <th>2</th>\n",
       "      <td>1003</td>\n",
       "      <td>Desktop</td>\n",
       "      <td>2</td>\n",
       "      <td>66.232.79.22</td>\n",
       "      <td>a698de4b-e200-46dd-b5fb-40402175ae18</td>\n",
       "      <td>New Meadows</td>\n",
       "      <td>83654.0</td>\n",
       "      <td>Mozilla/5.0 (Macintosh; Intel Mac OS X 10_15_7...</td>\n",
       "      <td>Online Medical Journal</td>\n",
       "      <td>Website</td>\n",
       "      <td>https://www.cancertherapyadvisor.com/home/canc...</td>\n",
       "      <td>General|Endocrine|False|Medicine|Surgery|Urolo...</td>\n",
       "      <td>NaN</td>\n",
       "      <td>0.0</td>\n",
       "    </tr>\n",
       "    <tr>\n",
       "      <th>3</th>\n",
       "      <td>1004</td>\n",
       "      <td>Desktop</td>\n",
       "      <td>3</td>\n",
       "      <td>137.54.125.246</td>\n",
       "      <td>45967533-75c8-4fbd-a00c-e6ff20447aaa</td>\n",
       "      <td>NaN</td>\n",
       "      <td>229114624.0</td>\n",
       "      <td>Mozilla/5.0 (Windows NT 10.0; Win64; x64) Appl...</td>\n",
       "      <td>Online Medical Journal</td>\n",
       "      <td>Website</td>\n",
       "      <td>https://globalrph.com/medcalcs/warfarin-mainte...</td>\n",
       "      <td>Dental|Total|Clinical|Pharmacology|Physicians|...</td>\n",
       "      <td>2084P0800X</td>\n",
       "      <td>1.0</td>\n",
       "    </tr>\n",
       "    <tr>\n",
       "      <th>4</th>\n",
       "      <td>1005</td>\n",
       "      <td>Mobile</td>\n",
       "      <td>7</td>\n",
       "      <td>174.202.231.99</td>\n",
       "      <td>a17e25be-532d-4cf5-b916-9308c8c3961f</td>\n",
       "      <td>Houston</td>\n",
       "      <td>77008.0</td>\n",
       "      <td>Mozilla/5.0 (iPhone; CPU iPhone OS 16_1_1 like...</td>\n",
       "      <td>Online Medical Journal</td>\n",
       "      <td>Website</td>\n",
       "      <td>https://www.cureus.com/articles/58184-a-review...</td>\n",
       "      <td>Critical Care|Emergency Medicine|General Pract...</td>\n",
       "      <td>NaN</td>\n",
       "      <td>0.0</td>\n",
       "    </tr>\n",
       "  </tbody>\n",
       "</table>\n",
       "</div>"
      ],
      "text/plain": [
       "     ID DEVICETYPE  PLATFORM_ID    BIDREQUESTIP  \\\n",
       "0  1001    Desktop            2    170.173.0.22   \n",
       "1  1002    Desktop            2   65.216.253.25   \n",
       "2  1003    Desktop            2    66.232.79.22   \n",
       "3  1004    Desktop            3  137.54.125.246   \n",
       "4  1005     Mobile            7  174.202.231.99   \n",
       "\n",
       "                        USERPLATFORMUID     USERCITY  USERZIPCODE  \\\n",
       "0  6974dcaa-f932-480e-9fb5-c52e20e1393a     Portland      97206.0   \n",
       "1  c12f3f8f-8fcf-484a-90e1-1ac04db8cdcf    Arlington      22202.0   \n",
       "2  a698de4b-e200-46dd-b5fb-40402175ae18  New Meadows      83654.0   \n",
       "3  45967533-75c8-4fbd-a00c-e6ff20447aaa          NaN  229114624.0   \n",
       "4  a17e25be-532d-4cf5-b916-9308c8c3961f      Houston      77008.0   \n",
       "\n",
       "                                           USERAGENT            PLATFORMTYPE  \\\n",
       "0  Mozilla/5.0 (Windows NT 10.0; Win64; x64) Appl...  Online Medical Journal   \n",
       "1  Mozilla/5.0 (Macintosh; Intel Mac OS X 10_15_7...  Online Medical Journal   \n",
       "2  Mozilla/5.0 (Macintosh; Intel Mac OS X 10_15_7...  Online Medical Journal   \n",
       "3  Mozilla/5.0 (Windows NT 10.0; Win64; x64) Appl...  Online Medical Journal   \n",
       "4  Mozilla/5.0 (iPhone; CPU iPhone OS 16_1_1 like...  Online Medical Journal   \n",
       "\n",
       "  CHANNELTYPE                                                URL  \\\n",
       "0     Website  https://www.cancertherapyadvisor.com/home/canc...   \n",
       "1     Website  https://www.cancertherapyadvisor.com/home/deci...   \n",
       "2     Website  https://www.cancertherapyadvisor.com/home/canc...   \n",
       "3     Website  https://globalrph.com/medcalcs/warfarin-mainte...   \n",
       "4     Website  https://www.cureus.com/articles/58184-a-review...   \n",
       "\n",
       "                                            KEYWORDS    TAXONOMY  IS_HCP  \n",
       "0  General|Endocrine|False|Medicine|Surgery|Urolo...         NaN     0.0  \n",
       "1  Bone Marrow|Radiography|Chronic|Oncology|Psych...         NaN     0.0  \n",
       "2  General|Endocrine|False|Medicine|Surgery|Urolo...         NaN     0.0  \n",
       "3  Dental|Total|Clinical|Pharmacology|Physicians|...  2084P0800X     1.0  \n",
       "4  Critical Care|Emergency Medicine|General Pract...         NaN     0.0  "
      ]
     },
     "execution_count": 3,
     "metadata": {},
     "output_type": "execute_result"
    }
   ],
   "source": [
    "train_df.head()"
   ]
  },
  {
   "cell_type": "code",
   "execution_count": 4,
   "id": "49cbf94d",
   "metadata": {},
   "outputs": [
    {
     "data": {
      "text/html": [
       "<div>\n",
       "<style scoped>\n",
       "    .dataframe tbody tr th:only-of-type {\n",
       "        vertical-align: middle;\n",
       "    }\n",
       "\n",
       "    .dataframe tbody tr th {\n",
       "        vertical-align: top;\n",
       "    }\n",
       "\n",
       "    .dataframe thead th {\n",
       "        text-align: right;\n",
       "    }\n",
       "</style>\n",
       "<table border=\"1\" class=\"dataframe\">\n",
       "  <thead>\n",
       "    <tr style=\"text-align: right;\">\n",
       "      <th></th>\n",
       "      <th>ID</th>\n",
       "      <th>DEVICETYPE</th>\n",
       "      <th>PLATFORM_ID</th>\n",
       "      <th>BIDREQUESTIP</th>\n",
       "      <th>USERPLATFORMUID</th>\n",
       "      <th>USERCITY</th>\n",
       "      <th>USERZIPCODE</th>\n",
       "      <th>USERAGENT</th>\n",
       "      <th>PLATFORMTYPE</th>\n",
       "      <th>CHANNELTYPE</th>\n",
       "      <th>URL</th>\n",
       "      <th>KEYWORDS</th>\n",
       "    </tr>\n",
       "  </thead>\n",
       "  <tbody>\n",
       "    <tr>\n",
       "      <th>0</th>\n",
       "      <td>115501</td>\n",
       "      <td>Desktop</td>\n",
       "      <td>2</td>\n",
       "      <td>75.189.231.103</td>\n",
       "      <td>0d5041ff-f0b6-4d1a-9ad7-0a29f7d485b4</td>\n",
       "      <td>Fayetteville</td>\n",
       "      <td>28305.0</td>\n",
       "      <td>Mozilla/5.0 (Macintosh; Intel Mac OS X 10_11_6...</td>\n",
       "      <td>Online Medical Journal</td>\n",
       "      <td>Website</td>\n",
       "      <td>https://www.clinicaladvisor.com/home/features/...</td>\n",
       "      <td>Family Practice|Drainage|Clinical|Dermatology|...</td>\n",
       "    </tr>\n",
       "    <tr>\n",
       "      <th>1</th>\n",
       "      <td>115502</td>\n",
       "      <td>Mobile</td>\n",
       "      <td>2</td>\n",
       "      <td>24.101.33.158</td>\n",
       "      <td>c8396dd0-969f-4d99-a40b-b7bb1f516154</td>\n",
       "      <td>Conneaut Lake</td>\n",
       "      <td>16316.0</td>\n",
       "      <td>Mozilla/5.0 (iPhone; CPU iPhone OS 15_6_1 like...</td>\n",
       "      <td>Online Medical Journal</td>\n",
       "      <td>Website</td>\n",
       "      <td>https://www.ophthalmologyadvisor.com/topics/ca...</td>\n",
       "      <td>General|Clinical|Operative|Medicine|Cardiology...</td>\n",
       "    </tr>\n",
       "    <tr>\n",
       "      <th>2</th>\n",
       "      <td>115503</td>\n",
       "      <td>Desktop</td>\n",
       "      <td>2</td>\n",
       "      <td>172.118.216.142</td>\n",
       "      <td>3c97a081-6518-43f8-9f26-369759cfb471</td>\n",
       "      <td>Covina</td>\n",
       "      <td>91724.0</td>\n",
       "      <td>Mozilla/5.0 (Macintosh; Intel Mac OS X 10_15_7...</td>\n",
       "      <td>Online Medical Journal</td>\n",
       "      <td>Website</td>\n",
       "      <td>https://www.psychiatryadvisor.com/author/tori-...</td>\n",
       "      <td>Abortion|Anxiety Disorders|Apnea|False|Trauma|...</td>\n",
       "    </tr>\n",
       "    <tr>\n",
       "      <th>3</th>\n",
       "      <td>115504</td>\n",
       "      <td>Desktop</td>\n",
       "      <td>7</td>\n",
       "      <td>71.105.120.171</td>\n",
       "      <td>3e2578c8-f794-41af-a38c-c5cfb3c0f014</td>\n",
       "      <td>Brooklyn</td>\n",
       "      <td>11226.0</td>\n",
       "      <td>Mozilla/5.0 (Macintosh; Intel Mac OS X 10_15_7...</td>\n",
       "      <td>Online Medical Journal</td>\n",
       "      <td>Website</td>\n",
       "      <td>https://www.cureus.com/articles/105482-diverti...</td>\n",
       "      <td>Health|Male|Neurological Surgery|Otolaryngolog...</td>\n",
       "    </tr>\n",
       "    <tr>\n",
       "      <th>4</th>\n",
       "      <td>115505</td>\n",
       "      <td>Desktop</td>\n",
       "      <td>2</td>\n",
       "      <td>73.82.211.73</td>\n",
       "      <td>ec2ae7ce-6a8c-4156-98a7-07203e60f483</td>\n",
       "      <td>Marietta</td>\n",
       "      <td>30062.0</td>\n",
       "      <td>Mozilla/5.0 (Windows NT 10.0; Win64; x64) Appl...</td>\n",
       "      <td>Online Medical Journal</td>\n",
       "      <td>Website</td>\n",
       "      <td>https://www.renalandurologynews.com/home/confe...</td>\n",
       "      <td>chronic kidney disease|pain|nephrology|disease...</td>\n",
       "    </tr>\n",
       "  </tbody>\n",
       "</table>\n",
       "</div>"
      ],
      "text/plain": [
       "       ID DEVICETYPE  PLATFORM_ID     BIDREQUESTIP  \\\n",
       "0  115501    Desktop            2   75.189.231.103   \n",
       "1  115502     Mobile            2    24.101.33.158   \n",
       "2  115503    Desktop            2  172.118.216.142   \n",
       "3  115504    Desktop            7   71.105.120.171   \n",
       "4  115505    Desktop            2     73.82.211.73   \n",
       "\n",
       "                        USERPLATFORMUID       USERCITY  USERZIPCODE  \\\n",
       "0  0d5041ff-f0b6-4d1a-9ad7-0a29f7d485b4   Fayetteville      28305.0   \n",
       "1  c8396dd0-969f-4d99-a40b-b7bb1f516154  Conneaut Lake      16316.0   \n",
       "2  3c97a081-6518-43f8-9f26-369759cfb471         Covina      91724.0   \n",
       "3  3e2578c8-f794-41af-a38c-c5cfb3c0f014       Brooklyn      11226.0   \n",
       "4  ec2ae7ce-6a8c-4156-98a7-07203e60f483       Marietta      30062.0   \n",
       "\n",
       "                                           USERAGENT            PLATFORMTYPE  \\\n",
       "0  Mozilla/5.0 (Macintosh; Intel Mac OS X 10_11_6...  Online Medical Journal   \n",
       "1  Mozilla/5.0 (iPhone; CPU iPhone OS 15_6_1 like...  Online Medical Journal   \n",
       "2  Mozilla/5.0 (Macintosh; Intel Mac OS X 10_15_7...  Online Medical Journal   \n",
       "3  Mozilla/5.0 (Macintosh; Intel Mac OS X 10_15_7...  Online Medical Journal   \n",
       "4  Mozilla/5.0 (Windows NT 10.0; Win64; x64) Appl...  Online Medical Journal   \n",
       "\n",
       "  CHANNELTYPE                                                URL  \\\n",
       "0     Website  https://www.clinicaladvisor.com/home/features/...   \n",
       "1     Website  https://www.ophthalmologyadvisor.com/topics/ca...   \n",
       "2     Website  https://www.psychiatryadvisor.com/author/tori-...   \n",
       "3     Website  https://www.cureus.com/articles/105482-diverti...   \n",
       "4     Website  https://www.renalandurologynews.com/home/confe...   \n",
       "\n",
       "                                            KEYWORDS  \n",
       "0  Family Practice|Drainage|Clinical|Dermatology|...  \n",
       "1  General|Clinical|Operative|Medicine|Cardiology...  \n",
       "2  Abortion|Anxiety Disorders|Apnea|False|Trauma|...  \n",
       "3  Health|Male|Neurological Surgery|Otolaryngolog...  \n",
       "4  chronic kidney disease|pain|nephrology|disease...  "
      ]
     },
     "execution_count": 4,
     "metadata": {},
     "output_type": "execute_result"
    }
   ],
   "source": [
    "test_df.head()"
   ]
  },
  {
   "cell_type": "markdown",
   "id": "a4d8025d",
   "metadata": {},
   "source": [
    "#### Analyze the data"
   ]
  },
  {
   "cell_type": "code",
   "execution_count": 5,
   "id": "5bc3d4ab",
   "metadata": {},
   "outputs": [
    {
     "name": "stdout",
     "output_type": "stream",
     "text": [
      "<class 'pandas.core.frame.DataFrame'>\n",
      "RangeIndex: 113937 entries, 0 to 113936\n",
      "Data columns (total 14 columns):\n",
      " #   Column           Non-Null Count   Dtype  \n",
      "---  ------           --------------   -----  \n",
      " 0   ID               113937 non-null  int64  \n",
      " 1   DEVICETYPE       113937 non-null  object \n",
      " 2   PLATFORM_ID      113937 non-null  int64  \n",
      " 3   BIDREQUESTIP     113937 non-null  object \n",
      " 4   USERPLATFORMUID  113933 non-null  object \n",
      " 5   USERCITY         107578 non-null  object \n",
      " 6   USERZIPCODE      109345 non-null  float64\n",
      " 7   USERAGENT        113935 non-null  object \n",
      " 8   PLATFORMTYPE     113937 non-null  object \n",
      " 9   CHANNELTYPE      113937 non-null  object \n",
      " 10  URL              113937 non-null  object \n",
      " 11  KEYWORDS         113937 non-null  object \n",
      " 12  TAXONOMY         32313 non-null   object \n",
      " 13  IS_HCP           113936 non-null  float64\n",
      "dtypes: float64(2), int64(2), object(10)\n",
      "memory usage: 12.2+ MB\n"
     ]
    }
   ],
   "source": [
    "train_df.info()"
   ]
  },
  {
   "cell_type": "code",
   "execution_count": 6,
   "id": "77df51e3",
   "metadata": {},
   "outputs": [
    {
     "data": {
      "text/html": [
       "<div>\n",
       "<style scoped>\n",
       "    .dataframe tbody tr th:only-of-type {\n",
       "        vertical-align: middle;\n",
       "    }\n",
       "\n",
       "    .dataframe tbody tr th {\n",
       "        vertical-align: top;\n",
       "    }\n",
       "\n",
       "    .dataframe thead th {\n",
       "        text-align: right;\n",
       "    }\n",
       "</style>\n",
       "<table border=\"1\" class=\"dataframe\">\n",
       "  <thead>\n",
       "    <tr style=\"text-align: right;\">\n",
       "      <th></th>\n",
       "      <th>ID</th>\n",
       "      <th>PLATFORM_ID</th>\n",
       "      <th>USERZIPCODE</th>\n",
       "      <th>IS_HCP</th>\n",
       "    </tr>\n",
       "  </thead>\n",
       "  <tbody>\n",
       "    <tr>\n",
       "      <th>count</th>\n",
       "      <td>113937.000000</td>\n",
       "      <td>113937.000000</td>\n",
       "      <td>1.093450e+05</td>\n",
       "      <td>113936.000000</td>\n",
       "    </tr>\n",
       "    <tr>\n",
       "      <th>mean</th>\n",
       "      <td>57969.000000</td>\n",
       "      <td>3.574993</td>\n",
       "      <td>1.830240e+07</td>\n",
       "      <td>0.299993</td>\n",
       "    </tr>\n",
       "    <tr>\n",
       "      <th>std</th>\n",
       "      <td>32890.923148</td>\n",
       "      <td>2.569019</td>\n",
       "      <td>1.066908e+08</td>\n",
       "      <td>0.458257</td>\n",
       "    </tr>\n",
       "    <tr>\n",
       "      <th>min</th>\n",
       "      <td>1001.000000</td>\n",
       "      <td>1.000000</td>\n",
       "      <td>6.020000e+02</td>\n",
       "      <td>0.000000</td>\n",
       "    </tr>\n",
       "    <tr>\n",
       "      <th>25%</th>\n",
       "      <td>29485.000000</td>\n",
       "      <td>2.000000</td>\n",
       "      <td>1.935500e+04</td>\n",
       "      <td>0.000000</td>\n",
       "    </tr>\n",
       "    <tr>\n",
       "      <th>50%</th>\n",
       "      <td>57969.000000</td>\n",
       "      <td>2.000000</td>\n",
       "      <td>4.321000e+04</td>\n",
       "      <td>0.000000</td>\n",
       "    </tr>\n",
       "    <tr>\n",
       "      <th>75%</th>\n",
       "      <td>86453.000000</td>\n",
       "      <td>6.000000</td>\n",
       "      <td>7.709000e+04</td>\n",
       "      <td>1.000000</td>\n",
       "    </tr>\n",
       "    <tr>\n",
       "      <th>max</th>\n",
       "      <td>114937.000000</td>\n",
       "      <td>16.000000</td>\n",
       "      <td>9.970149e+08</td>\n",
       "      <td>1.000000</td>\n",
       "    </tr>\n",
       "  </tbody>\n",
       "</table>\n",
       "</div>"
      ],
      "text/plain": [
       "                  ID    PLATFORM_ID   USERZIPCODE         IS_HCP\n",
       "count  113937.000000  113937.000000  1.093450e+05  113936.000000\n",
       "mean    57969.000000       3.574993  1.830240e+07       0.299993\n",
       "std     32890.923148       2.569019  1.066908e+08       0.458257\n",
       "min      1001.000000       1.000000  6.020000e+02       0.000000\n",
       "25%     29485.000000       2.000000  1.935500e+04       0.000000\n",
       "50%     57969.000000       2.000000  4.321000e+04       0.000000\n",
       "75%     86453.000000       6.000000  7.709000e+04       1.000000\n",
       "max    114937.000000      16.000000  9.970149e+08       1.000000"
      ]
     },
     "execution_count": 6,
     "metadata": {},
     "output_type": "execute_result"
    }
   ],
   "source": [
    "train_df.describe()"
   ]
  },
  {
   "cell_type": "code",
   "execution_count": 7,
   "id": "0dfadd0e",
   "metadata": {},
   "outputs": [
    {
     "data": {
      "text/plain": [
       "ID                   int64\n",
       "DEVICETYPE          object\n",
       "PLATFORM_ID          int64\n",
       "BIDREQUESTIP        object\n",
       "USERPLATFORMUID     object\n",
       "USERCITY            object\n",
       "USERZIPCODE        float64\n",
       "USERAGENT           object\n",
       "PLATFORMTYPE        object\n",
       "CHANNELTYPE         object\n",
       "URL                 object\n",
       "KEYWORDS            object\n",
       "TAXONOMY            object\n",
       "IS_HCP             float64\n",
       "dtype: object"
      ]
     },
     "execution_count": 7,
     "metadata": {},
     "output_type": "execute_result"
    }
   ],
   "source": [
    "train_df.dtypes"
   ]
  },
  {
   "cell_type": "code",
   "execution_count": 8,
   "id": "a606f650",
   "metadata": {},
   "outputs": [
    {
     "data": {
      "text/plain": [
       "(113937, 14)"
      ]
     },
     "execution_count": 8,
     "metadata": {},
     "output_type": "execute_result"
    }
   ],
   "source": [
    "train_df.shape"
   ]
  },
  {
   "cell_type": "code",
   "execution_count": 9,
   "id": "56df445c",
   "metadata": {},
   "outputs": [
    {
     "data": {
      "text/plain": [
       "Index(['ID', 'DEVICETYPE', 'PLATFORM_ID', 'BIDREQUESTIP', 'USERPLATFORMUID',\n",
       "       'USERCITY', 'USERZIPCODE', 'USERAGENT', 'PLATFORMTYPE', 'CHANNELTYPE',\n",
       "       'URL', 'KEYWORDS', 'TAXONOMY', 'IS_HCP'],\n",
       "      dtype='object')"
      ]
     },
     "execution_count": 9,
     "metadata": {},
     "output_type": "execute_result"
    }
   ],
   "source": [
    "train_df.columns"
   ]
  },
  {
   "cell_type": "markdown",
   "id": "a27abd02",
   "metadata": {},
   "source": [
    "#### Here the train data set has 113937 rows and 14 columns  "
   ]
  },
  {
   "cell_type": "markdown",
   "id": "93395ee9",
   "metadata": {},
   "source": [
    "### Checking for null values"
   ]
  },
  {
   "cell_type": "code",
   "execution_count": 10,
   "id": "36fd3c25",
   "metadata": {},
   "outputs": [
    {
     "name": "stdout",
     "output_type": "stream",
     "text": [
      "ID                     0\n",
      "DEVICETYPE             0\n",
      "PLATFORM_ID            0\n",
      "BIDREQUESTIP           0\n",
      "USERPLATFORMUID        4\n",
      "USERCITY            6359\n",
      "USERZIPCODE         4592\n",
      "USERAGENT              2\n",
      "PLATFORMTYPE           0\n",
      "CHANNELTYPE            0\n",
      "URL                    0\n",
      "KEYWORDS               0\n",
      "TAXONOMY           81624\n",
      "IS_HCP                 1\n",
      "dtype: int64\n"
     ]
    }
   ],
   "source": [
    "missing_values = train_df.isnull().sum()\n",
    "print(missing_values)"
   ]
  },
  {
   "cell_type": "markdown",
   "id": "c4e1a204",
   "metadata": {},
   "source": [
    "#### As we observe there are more null values in the usercity and the userzipcode so that we can drop those columns entirely and drop the rows of useragent and userplatformuid and Is_hcp having the null values"
   ]
  },
  {
   "cell_type": "markdown",
   "id": "96eaee56",
   "metadata": {},
   "source": [
    "### EDA"
   ]
  },
  {
   "cell_type": "code",
   "execution_count": 11,
   "id": "36de0144",
   "metadata": {},
   "outputs": [
    {
     "name": "stderr",
     "output_type": "stream",
     "text": [
      "C:\\Users\\tejas\\anaconda3\\lib\\site-packages\\seaborn\\_decorators.py:36: FutureWarning: Pass the following variable as a keyword arg: x. From version 0.12, the only valid positional argument will be `data`, and passing other arguments without an explicit keyword will result in an error or misinterpretation.\n",
      "  warnings.warn(\n"
     ]
    },
    {
     "data": {
      "image/png": "[encoded data removed]",
      "text/plain": [
       "<Figure size 720x432 with 1 Axes>"
      ]
     },
     "metadata": {
      "needs_background": "light"
     },
     "output_type": "display_data"
    }
   ],
   "source": [
    "plt.figure(figsize=(10, 6))\n",
    "sns.countplot(train_df['TAXONOMY'])\n",
    "plt.title('Distribution of Taxonomy')\n",
    "plt.xlabel('Taxonomy')\n",
    "plt.ylabel('Count')\n",
    "plt.show()"
   ]
  },
  {
   "cell_type": "code",
   "execution_count": 12,
   "id": "35407c2b",
   "metadata": {},
   "outputs": [
    {
     "data": {
      "text/plain": [
       "0.0    79756\n",
       "1.0    34180\n",
       "Name: IS_HCP, dtype: int64"
      ]
     },
     "execution_count": 12,
     "metadata": {},
     "output_type": "execute_result"
    }
   ],
   "source": [
    "hcp_counts = train_df['IS_HCP'].value_counts()\n",
    "hcp_counts"
   ]
  },
  {
   "cell_type": "code",
   "execution_count": 13,
   "id": "9f507735",
   "metadata": {},
   "outputs": [
    {
     "data": {
      "image/png": "[encoded data removed]",
      "text/plain": [
       "<Figure size 432x288 with 1 Axes>"
      ]
     },
     "metadata": {
      "needs_background": "light"
     },
     "output_type": "display_data"
    }
   ],
   "source": [
    "sns.countplot(x='IS_HCP', data=train_df)\n",
    "plt.title('Distribution of IS_HCP')\n",
    "plt.show()"
   ]
  },
  {
   "cell_type": "code",
   "execution_count": 14,
   "id": "32e0b261",
   "metadata": {},
   "outputs": [
    {
     "data": {
      "image/png": "[encoded data removed]",
      "text/plain": [
       "<Figure size 432x288 with 1 Axes>"
      ]
     },
     "metadata": {},
     "output_type": "display_data"
    }
   ],
   "source": [
    "labels = ['Non-HCP', 'HCP']  # Custom labels for the pie chart\n",
    "plt.pie(hcp_counts, labels=labels, autopct=lambda pct: f'{pct:.1f}% ({int(pct * sum(hcp_counts) / 100)})')\n",
    "plt.title('Distribution of IS_HCP')\n",
    "plt.show()"
   ]
  },
  {
   "cell_type": "code",
   "execution_count": 15,
   "id": "8215a1a8",
   "metadata": {},
   "outputs": [
    {
     "data": {
      "image/png": "[encoded data removed]",
      "text/plain": [
       "<Figure size 432x288 with 1 Axes>"
      ]
     },
     "metadata": {
      "needs_background": "light"
     },
     "output_type": "display_data"
    },
    {
     "data": {
      "image/png": "[encoded data removed]",
      "text/plain": [
       "<Figure size 432x288 with 1 Axes>"
      ]
     },
     "metadata": {
      "needs_background": "light"
     },
     "output_type": "display_data"
    },
    {
     "data": {
      "image/png": "[encoded data removed]",
      "text/plain": [
       "<Figure size 432x288 with 1 Axes>"
      ]
     },
     "metadata": {
      "needs_background": "light"
     },
     "output_type": "display_data"
    }
   ],
   "source": [
    "# Check the distribution of categorical variables\n",
    "categorical_cols = ['DEVICETYPE', 'PLATFORMTYPE','CHANNELTYPE']\n",
    "for col in categorical_cols:\n",
    "    sns.countplot(x=col, data=train_df)\n",
    "    plt.title(f'Distribution of {col}')\n",
    "    plt.xticks(rotation=45)\n",
    "    plt.show()"
   ]
  },
  {
   "cell_type": "code",
   "execution_count": 16,
   "id": "ea70daa8",
   "metadata": {},
   "outputs": [
    {
     "data": {
      "image/png": "[encoded data removed]",
      "text/plain": [
       "<Figure size 720x576 with 2 Axes>"
      ]
     },
     "metadata": {
      "needs_background": "light"
     },
     "output_type": "display_data"
    }
   ],
   "source": [
    "plt.figure(figsize=(10, 8))\n",
    "sns.heatmap(train_df.corr(), annot=True, cmap='coolwarm')\n",
    "plt.title('Correlation Heatmap')\n",
    "plt.show()"
   ]
  },
  {
   "cell_type": "code",
   "execution_count": 17,
   "id": "cf6ce10a",
   "metadata": {},
   "outputs": [],
   "source": [
    "train_df['URL_LENGTH'] = train_df['URL'].apply(lambda x: len(str(x)))\n",
    "train_df['KEYWORDS_LENGTH'] = train_df['KEYWORDS'].apply(lambda x: len(str(x).split('|')))\n",
    "test_df['URL_LENGTH'] = test_df['URL'].apply(lambda x: len(str(x)))\n",
    "test_df['KEYWORDS_LENGTH'] = test_df['KEYWORDS'].apply(lambda x: len(str(x).split('|')))\n"
   ]
  },
  {
   "cell_type": "code",
   "execution_count": 18,
   "id": "0fe982b8",
   "metadata": {},
   "outputs": [
    {
     "data": {
      "image/png": "[encoded data removed]",
      "text/plain": [
       "<Figure size 432x288 with 2 Axes>"
      ]
     },
     "metadata": {
      "needs_background": "light"
     },
     "output_type": "display_data"
    }
   ],
   "source": [
    "# Check the correlation between numerical features\n",
    "numerical_cols = ['URL_LENGTH', 'KEYWORDS_LENGTH']\n",
    "correlation = train_df[numerical_cols].corr()\n",
    "sns.heatmap(correlation, annot=True, cmap='coolwarm')\n",
    "plt.title('Correlation Heatmap')\n",
    "plt.show()"
   ]
  },
  {
   "cell_type": "markdown",
   "id": "efcf129b",
   "metadata": {},
   "source": [
    "### Preprocessing"
   ]
  },
  {
   "cell_type": "code",
   "execution_count": 19,
   "id": "c7e95d7c",
   "metadata": {},
   "outputs": [],
   "source": [
    "train_df = train_df.drop(['USERCITY','USERZIPCODE','ID'],axis = 1)\n",
    "test_df = test_df.drop(['USERCITY','USERZIPCODE'],axis = 1)\n"
   ]
  },
  {
   "cell_type": "code",
   "execution_count": 20,
   "id": "1e982cad",
   "metadata": {},
   "outputs": [],
   "source": [
    "train_df.dropna(subset=['IS_HCP','USERPLATFORMUID','USERAGENT','IS_HCP'], inplace=True)\n",
    "test_df.dropna(subset=['USERAGENT'], inplace=True)"
   ]
  },
  {
   "cell_type": "code",
   "execution_count": 21,
   "id": "ad5f7c02",
   "metadata": {},
   "outputs": [
    {
     "data": {
      "text/html": [
       "<div>\n",
       "<style scoped>\n",
       "    .dataframe tbody tr th:only-of-type {\n",
       "        vertical-align: middle;\n",
       "    }\n",
       "\n",
       "    .dataframe tbody tr th {\n",
       "        vertical-align: top;\n",
       "    }\n",
       "\n",
       "    .dataframe thead th {\n",
       "        text-align: right;\n",
       "    }\n",
       "</style>\n",
       "<table border=\"1\" class=\"dataframe\">\n",
       "  <thead>\n",
       "    <tr style=\"text-align: right;\">\n",
       "      <th></th>\n",
       "      <th>DEVICETYPE</th>\n",
       "      <th>PLATFORM_ID</th>\n",
       "      <th>BIDREQUESTIP</th>\n",
       "      <th>USERPLATFORMUID</th>\n",
       "      <th>USERAGENT</th>\n",
       "      <th>PLATFORMTYPE</th>\n",
       "      <th>CHANNELTYPE</th>\n",
       "      <th>URL</th>\n",
       "      <th>KEYWORDS</th>\n",
       "      <th>TAXONOMY</th>\n",
       "      <th>IS_HCP</th>\n",
       "      <th>URL_LENGTH</th>\n",
       "      <th>KEYWORDS_LENGTH</th>\n",
       "    </tr>\n",
       "  </thead>\n",
       "  <tbody>\n",
       "    <tr>\n",
       "      <th>0</th>\n",
       "      <td>Desktop</td>\n",
       "      <td>2</td>\n",
       "      <td>170.173.0.22</td>\n",
       "      <td>6974dcaa-f932-480e-9fb5-c52e20e1393a</td>\n",
       "      <td>Mozilla/5.0 (Windows NT 10.0; Win64; x64) Appl...</td>\n",
       "      <td>Online Medical Journal</td>\n",
       "      <td>Website</td>\n",
       "      <td>https://www.cancertherapyadvisor.com/home/canc...</td>\n",
       "      <td>General|Endocrine|False|Medicine|Surgery|Urolo...</td>\n",
       "      <td>NaN</td>\n",
       "      <td>0.0</td>\n",
       "      <td>72</td>\n",
       "      <td>20</td>\n",
       "    </tr>\n",
       "  </tbody>\n",
       "</table>\n",
       "</div>"
      ],
      "text/plain": [
       "  DEVICETYPE  PLATFORM_ID  BIDREQUESTIP                       USERPLATFORMUID  \\\n",
       "0    Desktop            2  170.173.0.22  6974dcaa-f932-480e-9fb5-c52e20e1393a   \n",
       "\n",
       "                                           USERAGENT            PLATFORMTYPE  \\\n",
       "0  Mozilla/5.0 (Windows NT 10.0; Win64; x64) Appl...  Online Medical Journal   \n",
       "\n",
       "  CHANNELTYPE                                                URL  \\\n",
       "0     Website  https://www.cancertherapyadvisor.com/home/canc...   \n",
       "\n",
       "                                            KEYWORDS TAXONOMY  IS_HCP  \\\n",
       "0  General|Endocrine|False|Medicine|Surgery|Urolo...      NaN     0.0   \n",
       "\n",
       "   URL_LENGTH  KEYWORDS_LENGTH  \n",
       "0          72               20  "
      ]
     },
     "execution_count": 21,
     "metadata": {},
     "output_type": "execute_result"
    }
   ],
   "source": [
    "train_df.head(1)"
   ]
  },
  {
   "cell_type": "code",
   "execution_count": 22,
   "id": "1d361450",
   "metadata": {},
   "outputs": [],
   "source": [
    "ip_segments = train_df['BIDREQUESTIP'].str.split('.', expand=True)\n",
    "ip_segments_test = test_df['BIDREQUESTIP'].str.split('.', expand=True)\n",
    "ip_segments.columns = ['IP_segment_1', 'IP_segment_2', 'IP_segment_3', 'IP_segment_4']\n",
    "ip_segments_test.columns = ['IP_segment_1', 'IP_segment_2', 'IP_segment_3', 'IP_segment_4']\n",
    "\n",
    "# Convert the IP segments to numeric values\n",
    "ip_segments = ip_segments.astype(int)\n",
    "ip_segments_test = ip_segments_test.astype(int)\n",
    "\n",
    "# Concatenate the IP segments with the original data\n",
    "train_df = pd.concat([train_df, ip_segments], axis=1)\n",
    "train_df = train_df.drop('BIDREQUESTIP',axis=1)\n",
    "test_df = pd.concat([test_df, ip_segments_test], axis=1)\n",
    "test_df = test_df.drop('BIDREQUESTIP',axis=1)\n"
   ]
  },
  {
   "cell_type": "code",
   "execution_count": 23,
   "id": "df6ffe35",
   "metadata": {},
   "outputs": [
    {
     "data": {
      "text/html": [
       "<div>\n",
       "<style scoped>\n",
       "    .dataframe tbody tr th:only-of-type {\n",
       "        vertical-align: middle;\n",
       "    }\n",
       "\n",
       "    .dataframe tbody tr th {\n",
       "        vertical-align: top;\n",
       "    }\n",
       "\n",
       "    .dataframe thead th {\n",
       "        text-align: right;\n",
       "    }\n",
       "</style>\n",
       "<table border=\"1\" class=\"dataframe\">\n",
       "  <thead>\n",
       "    <tr style=\"text-align: right;\">\n",
       "      <th></th>\n",
       "      <th>DEVICETYPE</th>\n",
       "      <th>PLATFORM_ID</th>\n",
       "      <th>USERPLATFORMUID</th>\n",
       "      <th>USERAGENT</th>\n",
       "      <th>PLATFORMTYPE</th>\n",
       "      <th>CHANNELTYPE</th>\n",
       "      <th>URL</th>\n",
       "      <th>KEYWORDS</th>\n",
       "      <th>TAXONOMY</th>\n",
       "      <th>IS_HCP</th>\n",
       "      <th>URL_LENGTH</th>\n",
       "      <th>KEYWORDS_LENGTH</th>\n",
       "      <th>IP_segment_1</th>\n",
       "      <th>IP_segment_2</th>\n",
       "      <th>IP_segment_3</th>\n",
       "      <th>IP_segment_4</th>\n",
       "    </tr>\n",
       "  </thead>\n",
       "  <tbody>\n",
       "    <tr>\n",
       "      <th>0</th>\n",
       "      <td>Desktop</td>\n",
       "      <td>2</td>\n",
       "      <td>6974dcaa-f932-480e-9fb5-c52e20e1393a</td>\n",
       "      <td>Mozilla/5.0 (Windows NT 10.0; Win64; x64) Appl...</td>\n",
       "      <td>Online Medical Journal</td>\n",
       "      <td>Website</td>\n",
       "      <td>https://www.cancertherapyadvisor.com/home/canc...</td>\n",
       "      <td>General|Endocrine|False|Medicine|Surgery|Urolo...</td>\n",
       "      <td>NaN</td>\n",
       "      <td>0.0</td>\n",
       "      <td>72</td>\n",
       "      <td>20</td>\n",
       "      <td>170</td>\n",
       "      <td>173</td>\n",
       "      <td>0</td>\n",
       "      <td>22</td>\n",
       "    </tr>\n",
       "  </tbody>\n",
       "</table>\n",
       "</div>"
      ],
      "text/plain": [
       "  DEVICETYPE  PLATFORM_ID                       USERPLATFORMUID  \\\n",
       "0    Desktop            2  6974dcaa-f932-480e-9fb5-c52e20e1393a   \n",
       "\n",
       "                                           USERAGENT            PLATFORMTYPE  \\\n",
       "0  Mozilla/5.0 (Windows NT 10.0; Win64; x64) Appl...  Online Medical Journal   \n",
       "\n",
       "  CHANNELTYPE                                                URL  \\\n",
       "0     Website  https://www.cancertherapyadvisor.com/home/canc...   \n",
       "\n",
       "                                            KEYWORDS TAXONOMY  IS_HCP  \\\n",
       "0  General|Endocrine|False|Medicine|Surgery|Urolo...      NaN     0.0   \n",
       "\n",
       "   URL_LENGTH  KEYWORDS_LENGTH  IP_segment_1  IP_segment_2  IP_segment_3  \\\n",
       "0          72               20           170           173             0   \n",
       "\n",
       "   IP_segment_4  \n",
       "0            22  "
      ]
     },
     "execution_count": 23,
     "metadata": {},
     "output_type": "execute_result"
    }
   ],
   "source": [
    "train_df.head(1)"
   ]
  },
  {
   "cell_type": "code",
   "execution_count": 24,
   "id": "1d10e190",
   "metadata": {},
   "outputs": [],
   "source": [
    "#Label encoding on USERPLATFORMUID\n",
    "label_encoder = LabelEncoder()\n",
    "train_df['USERPLATFORMUID'] = label_encoder.fit_transform(train_df['USERPLATFORMUID'])\n",
    "test_df['USERPLATFORMUID'] = label_encoder.fit_transform(test_df['USERPLATFORMUID'])\n"
   ]
  },
  {
   "cell_type": "code",
   "execution_count": 25,
   "id": "7873932a",
   "metadata": {},
   "outputs": [
    {
     "data": {
      "text/html": [
       "<div>\n",
       "<style scoped>\n",
       "    .dataframe tbody tr th:only-of-type {\n",
       "        vertical-align: middle;\n",
       "    }\n",
       "\n",
       "    .dataframe tbody tr th {\n",
       "        vertical-align: top;\n",
       "    }\n",
       "\n",
       "    .dataframe thead th {\n",
       "        text-align: right;\n",
       "    }\n",
       "</style>\n",
       "<table border=\"1\" class=\"dataframe\">\n",
       "  <thead>\n",
       "    <tr style=\"text-align: right;\">\n",
       "      <th></th>\n",
       "      <th>DEVICETYPE</th>\n",
       "      <th>PLATFORM_ID</th>\n",
       "      <th>USERPLATFORMUID</th>\n",
       "      <th>USERAGENT</th>\n",
       "      <th>PLATFORMTYPE</th>\n",
       "      <th>CHANNELTYPE</th>\n",
       "      <th>URL</th>\n",
       "      <th>KEYWORDS</th>\n",
       "      <th>TAXONOMY</th>\n",
       "      <th>IS_HCP</th>\n",
       "      <th>URL_LENGTH</th>\n",
       "      <th>KEYWORDS_LENGTH</th>\n",
       "      <th>IP_segment_1</th>\n",
       "      <th>IP_segment_2</th>\n",
       "      <th>IP_segment_3</th>\n",
       "      <th>IP_segment_4</th>\n",
       "    </tr>\n",
       "  </thead>\n",
       "  <tbody>\n",
       "    <tr>\n",
       "      <th>0</th>\n",
       "      <td>Desktop</td>\n",
       "      <td>2</td>\n",
       "      <td>22183</td>\n",
       "      <td>Mozilla/5.0 (Windows NT 10.0; Win64; x64) Appl...</td>\n",
       "      <td>Online Medical Journal</td>\n",
       "      <td>Website</td>\n",
       "      <td>https://www.cancertherapyadvisor.com/home/canc...</td>\n",
       "      <td>General|Endocrine|False|Medicine|Surgery|Urolo...</td>\n",
       "      <td>NaN</td>\n",
       "      <td>0.0</td>\n",
       "      <td>72</td>\n",
       "      <td>20</td>\n",
       "      <td>170</td>\n",
       "      <td>173</td>\n",
       "      <td>0</td>\n",
       "      <td>22</td>\n",
       "    </tr>\n",
       "  </tbody>\n",
       "</table>\n",
       "</div>"
      ],
      "text/plain": [
       "  DEVICETYPE  PLATFORM_ID  USERPLATFORMUID  \\\n",
       "0    Desktop            2            22183   \n",
       "\n",
       "                                           USERAGENT            PLATFORMTYPE  \\\n",
       "0  Mozilla/5.0 (Windows NT 10.0; Win64; x64) Appl...  Online Medical Journal   \n",
       "\n",
       "  CHANNELTYPE                                                URL  \\\n",
       "0     Website  https://www.cancertherapyadvisor.com/home/canc...   \n",
       "\n",
       "                                            KEYWORDS TAXONOMY  IS_HCP  \\\n",
       "0  General|Endocrine|False|Medicine|Surgery|Urolo...      NaN     0.0   \n",
       "\n",
       "   URL_LENGTH  KEYWORDS_LENGTH  IP_segment_1  IP_segment_2  IP_segment_3  \\\n",
       "0          72               20           170           173             0   \n",
       "\n",
       "   IP_segment_4  \n",
       "0            22  "
      ]
     },
     "execution_count": 25,
     "metadata": {},
     "output_type": "execute_result"
    }
   ],
   "source": [
    "train_df.head(1)"
   ]
  },
  {
   "cell_type": "code",
   "execution_count": 26,
   "id": "715a092d",
   "metadata": {},
   "outputs": [],
   "source": [
    "\n",
    "train_df['OperatingSystem'] = train_df['USERAGENT'].apply(lambda x: parse(x).os.family)\n",
    "train_df['Browser'] = train_df['USERAGENT'].apply(lambda x: parse(x).browser.family)\n",
    "\n",
    "test_df['OperatingSystem'] = test_df['USERAGENT'].apply(lambda x: parse(x).os.family)\n",
    "test_df['Browser'] = test_df['USERAGENT'].apply(lambda x: parse(x).browser.family)"
   ]
  },
  {
   "cell_type": "code",
   "execution_count": 27,
   "id": "72bd64d6",
   "metadata": {},
   "outputs": [],
   "source": [
    "train_df = train_df.drop('USERAGENT', axis=1)\n",
    "test_df = test_df.drop('USERAGENT', axis=1)\n"
   ]
  },
  {
   "cell_type": "code",
   "execution_count": 28,
   "id": "07d1a6d8",
   "metadata": {},
   "outputs": [
    {
     "data": {
      "text/html": [
       "<div>\n",
       "<style scoped>\n",
       "    .dataframe tbody tr th:only-of-type {\n",
       "        vertical-align: middle;\n",
       "    }\n",
       "\n",
       "    .dataframe tbody tr th {\n",
       "        vertical-align: top;\n",
       "    }\n",
       "\n",
       "    .dataframe thead th {\n",
       "        text-align: right;\n",
       "    }\n",
       "</style>\n",
       "<table border=\"1\" class=\"dataframe\">\n",
       "  <thead>\n",
       "    <tr style=\"text-align: right;\">\n",
       "      <th></th>\n",
       "      <th>DEVICETYPE</th>\n",
       "      <th>PLATFORM_ID</th>\n",
       "      <th>USERPLATFORMUID</th>\n",
       "      <th>PLATFORMTYPE</th>\n",
       "      <th>CHANNELTYPE</th>\n",
       "      <th>URL</th>\n",
       "      <th>KEYWORDS</th>\n",
       "      <th>TAXONOMY</th>\n",
       "      <th>IS_HCP</th>\n",
       "      <th>URL_LENGTH</th>\n",
       "      <th>KEYWORDS_LENGTH</th>\n",
       "      <th>IP_segment_1</th>\n",
       "      <th>IP_segment_2</th>\n",
       "      <th>IP_segment_3</th>\n",
       "      <th>IP_segment_4</th>\n",
       "      <th>OperatingSystem</th>\n",
       "      <th>Browser</th>\n",
       "    </tr>\n",
       "  </thead>\n",
       "  <tbody>\n",
       "    <tr>\n",
       "      <th>0</th>\n",
       "      <td>Desktop</td>\n",
       "      <td>2</td>\n",
       "      <td>22183</td>\n",
       "      <td>Online Medical Journal</td>\n",
       "      <td>Website</td>\n",
       "      <td>https://www.cancertherapyadvisor.com/home/canc...</td>\n",
       "      <td>General|Endocrine|False|Medicine|Surgery|Urolo...</td>\n",
       "      <td>NaN</td>\n",
       "      <td>0.0</td>\n",
       "      <td>72</td>\n",
       "      <td>20</td>\n",
       "      <td>170</td>\n",
       "      <td>173</td>\n",
       "      <td>0</td>\n",
       "      <td>22</td>\n",
       "      <td>Windows</td>\n",
       "      <td>Chrome</td>\n",
       "    </tr>\n",
       "  </tbody>\n",
       "</table>\n",
       "</div>"
      ],
      "text/plain": [
       "  DEVICETYPE  PLATFORM_ID  USERPLATFORMUID            PLATFORMTYPE  \\\n",
       "0    Desktop            2            22183  Online Medical Journal   \n",
       "\n",
       "  CHANNELTYPE                                                URL  \\\n",
       "0     Website  https://www.cancertherapyadvisor.com/home/canc...   \n",
       "\n",
       "                                            KEYWORDS TAXONOMY  IS_HCP  \\\n",
       "0  General|Endocrine|False|Medicine|Surgery|Urolo...      NaN     0.0   \n",
       "\n",
       "   URL_LENGTH  KEYWORDS_LENGTH  IP_segment_1  IP_segment_2  IP_segment_3  \\\n",
       "0          72               20           170           173             0   \n",
       "\n",
       "   IP_segment_4 OperatingSystem Browser  \n",
       "0            22         Windows  Chrome  "
      ]
     },
     "execution_count": 28,
     "metadata": {},
     "output_type": "execute_result"
    }
   ],
   "source": [
    "train_df.head(1)"
   ]
  },
  {
   "cell_type": "code",
   "execution_count": 29,
   "id": "38773482",
   "metadata": {},
   "outputs": [],
   "source": [
    "train_df['OperatingSystem'] = label_encoder.fit_transform(train_df['OperatingSystem'])\n",
    "train_df['Browser'] = label_encoder.fit_transform(train_df['Browser'])\n",
    "train_df['PLATFORMTYPE'] = label_encoder.fit_transform(train_df['PLATFORMTYPE'])\n",
    "\n",
    "test_df['OperatingSystem'] = label_encoder.fit_transform(test_df['OperatingSystem'])\n",
    "test_df['Browser'] = label_encoder.fit_transform(test_df['Browser'])\n",
    "test_df['PLATFORMTYPE'] = label_encoder.fit_transform(test_df['PLATFORMTYPE'])\n",
    "\n",
    "\n",
    "device_type_encoded = pd.get_dummies(train_df['DEVICETYPE'], prefix='DEVICETYPE')\n",
    "train_df= pd.concat([train_df, device_type_encoded], axis=1)\n",
    "train_df= train_df.drop('DEVICETYPE', axis=1)\n",
    "\n",
    "device_type_encoded1 = pd.get_dummies(test_df['DEVICETYPE'], prefix='DEVICETYPE')\n",
    "test_df= pd.concat([test_df, device_type_encoded1], axis=1)\n",
    "test_df= test_df.drop('DEVICETYPE', axis=1)\n"
   ]
  },
  {
   "cell_type": "code",
   "execution_count": 30,
   "id": "0dcf67a0",
   "metadata": {},
   "outputs": [],
   "source": [
    "import re\n",
    "import tldextract\n",
    "def clean_url(url):\n",
    "    # Remove leading/trailing spaces\n",
    "    url = url.strip()\n",
    "    \n",
    "    # Remove protocol and www.\n",
    "    url = re.sub(r'^https?://(?:www\\.)?', '', url)\n",
    "    \n",
    "    # Remove query parameters\n",
    "    url = re.sub(r'\\?.*', '', url)\n",
    "    \n",
    "    # Remove trailing slashes\n",
    "    url = url.rstrip('/')\n",
    "    \n",
    "    return url\n",
    "\n",
    "# Apply the cleaning function to the 'URL' column\n",
    "train_df['URL'] = train_df['URL'].apply(clean_url)\n",
    "train_df['Domian'] = train_df['URL'].apply(lambda x: tldextract.extract(x).domain)\n",
    "test_df['URL'] = test_df['URL'].apply(clean_url)\n",
    "test_df['Domian'] = test_df['URL'].apply(lambda x: tldextract.extract(x).domain)\n"
   ]
  },
  {
   "cell_type": "code",
   "execution_count": 31,
   "id": "bc1bbd1d",
   "metadata": {},
   "outputs": [],
   "source": [
    "train_df = train_df.drop('URL',axis = 1)\n",
    "test_df = test_df.drop('URL',axis = 1)\n"
   ]
  },
  {
   "cell_type": "code",
   "execution_count": 32,
   "id": "eb7bc373",
   "metadata": {},
   "outputs": [],
   "source": [
    "train_df['Domian'] = label_encoder.fit_transform(train_df['Domian'])\n",
    "test_df['Domian'] = label_encoder.fit_transform(test_df['Domian'])\n"
   ]
  },
  {
   "cell_type": "code",
   "execution_count": 33,
   "id": "c52674e3",
   "metadata": {},
   "outputs": [
    {
     "data": {
      "text/html": [
       "<div>\n",
       "<style scoped>\n",
       "    .dataframe tbody tr th:only-of-type {\n",
       "        vertical-align: middle;\n",
       "    }\n",
       "\n",
       "    .dataframe tbody tr th {\n",
       "        vertical-align: top;\n",
       "    }\n",
       "\n",
       "    .dataframe thead th {\n",
       "        text-align: right;\n",
       "    }\n",
       "</style>\n",
       "<table border=\"1\" class=\"dataframe\">\n",
       "  <thead>\n",
       "    <tr style=\"text-align: right;\">\n",
       "      <th></th>\n",
       "      <th>PLATFORM_ID</th>\n",
       "      <th>USERPLATFORMUID</th>\n",
       "      <th>PLATFORMTYPE</th>\n",
       "      <th>CHANNELTYPE</th>\n",
       "      <th>KEYWORDS</th>\n",
       "      <th>TAXONOMY</th>\n",
       "      <th>IS_HCP</th>\n",
       "      <th>URL_LENGTH</th>\n",
       "      <th>KEYWORDS_LENGTH</th>\n",
       "      <th>IP_segment_1</th>\n",
       "      <th>IP_segment_2</th>\n",
       "      <th>IP_segment_3</th>\n",
       "      <th>IP_segment_4</th>\n",
       "      <th>OperatingSystem</th>\n",
       "      <th>Browser</th>\n",
       "      <th>DEVICETYPE_Desktop</th>\n",
       "      <th>DEVICETYPE_Mobile</th>\n",
       "      <th>DEVICETYPE_Tablet</th>\n",
       "      <th>DEVICETYPE_Unknown</th>\n",
       "      <th>Domian</th>\n",
       "    </tr>\n",
       "  </thead>\n",
       "  <tbody>\n",
       "    <tr>\n",
       "      <th>0</th>\n",
       "      <td>2</td>\n",
       "      <td>22183</td>\n",
       "      <td>3</td>\n",
       "      <td>Website</td>\n",
       "      <td>General|Endocrine|False|Medicine|Surgery|Urolo...</td>\n",
       "      <td>NaN</td>\n",
       "      <td>0.0</td>\n",
       "      <td>72</td>\n",
       "      <td>20</td>\n",
       "      <td>170</td>\n",
       "      <td>173</td>\n",
       "      <td>0</td>\n",
       "      <td>22</td>\n",
       "      <td>7</td>\n",
       "      <td>3</td>\n",
       "      <td>1</td>\n",
       "      <td>0</td>\n",
       "      <td>0</td>\n",
       "      <td>0</td>\n",
       "      <td>2</td>\n",
       "    </tr>\n",
       "  </tbody>\n",
       "</table>\n",
       "</div>"
      ],
      "text/plain": [
       "   PLATFORM_ID  USERPLATFORMUID  PLATFORMTYPE CHANNELTYPE  \\\n",
       "0            2            22183             3     Website   \n",
       "\n",
       "                                            KEYWORDS TAXONOMY  IS_HCP  \\\n",
       "0  General|Endocrine|False|Medicine|Surgery|Urolo...      NaN     0.0   \n",
       "\n",
       "   URL_LENGTH  KEYWORDS_LENGTH  IP_segment_1  IP_segment_2  IP_segment_3  \\\n",
       "0          72               20           170           173             0   \n",
       "\n",
       "   IP_segment_4  OperatingSystem  Browser  DEVICETYPE_Desktop  \\\n",
       "0            22                7        3                   1   \n",
       "\n",
       "   DEVICETYPE_Mobile  DEVICETYPE_Tablet  DEVICETYPE_Unknown  Domian  \n",
       "0                  0                  0                   0       2  "
      ]
     },
     "execution_count": 33,
     "metadata": {},
     "output_type": "execute_result"
    }
   ],
   "source": [
    "train_df.head(1)"
   ]
  },
  {
   "cell_type": "code",
   "execution_count": 34,
   "id": "e09beef6",
   "metadata": {},
   "outputs": [
    {
     "data": {
      "text/plain": [
       "PLATFORM_ID               0\n",
       "USERPLATFORMUID           0\n",
       "PLATFORMTYPE              0\n",
       "CHANNELTYPE               0\n",
       "KEYWORDS                  0\n",
       "TAXONOMY              81621\n",
       "IS_HCP                    0\n",
       "URL_LENGTH                0\n",
       "KEYWORDS_LENGTH           0\n",
       "IP_segment_1              0\n",
       "IP_segment_2              0\n",
       "IP_segment_3              0\n",
       "IP_segment_4              0\n",
       "OperatingSystem           0\n",
       "Browser                   0\n",
       "DEVICETYPE_Desktop        0\n",
       "DEVICETYPE_Mobile         0\n",
       "DEVICETYPE_Tablet         0\n",
       "DEVICETYPE_Unknown        0\n",
       "Domian                    0\n",
       "dtype: int64"
      ]
     },
     "execution_count": 34,
     "metadata": {},
     "output_type": "execute_result"
    }
   ],
   "source": [
    "train_df.isnull().sum()"
   ]
  },
  {
   "cell_type": "code",
   "execution_count": 35,
   "id": "5d6abd35",
   "metadata": {},
   "outputs": [],
   "source": [
    "train_df['CHANNELTYPE'] = 1\n",
    "test_df['CHANNELTYPE'] = 1"
   ]
  },
  {
   "cell_type": "code",
   "execution_count": 36,
   "id": "2ccb1434",
   "metadata": {},
   "outputs": [
    {
     "data": {
      "text/html": [
       "<div>\n",
       "<style scoped>\n",
       "    .dataframe tbody tr th:only-of-type {\n",
       "        vertical-align: middle;\n",
       "    }\n",
       "\n",
       "    .dataframe tbody tr th {\n",
       "        vertical-align: top;\n",
       "    }\n",
       "\n",
       "    .dataframe thead th {\n",
       "        text-align: right;\n",
       "    }\n",
       "</style>\n",
       "<table border=\"1\" class=\"dataframe\">\n",
       "  <thead>\n",
       "    <tr style=\"text-align: right;\">\n",
       "      <th></th>\n",
       "      <th>PLATFORM_ID</th>\n",
       "      <th>USERPLATFORMUID</th>\n",
       "      <th>PLATFORMTYPE</th>\n",
       "      <th>CHANNELTYPE</th>\n",
       "      <th>KEYWORDS</th>\n",
       "      <th>TAXONOMY</th>\n",
       "      <th>IS_HCP</th>\n",
       "      <th>URL_LENGTH</th>\n",
       "      <th>KEYWORDS_LENGTH</th>\n",
       "      <th>IP_segment_1</th>\n",
       "      <th>IP_segment_2</th>\n",
       "      <th>IP_segment_3</th>\n",
       "      <th>IP_segment_4</th>\n",
       "      <th>OperatingSystem</th>\n",
       "      <th>Browser</th>\n",
       "      <th>DEVICETYPE_Desktop</th>\n",
       "      <th>DEVICETYPE_Mobile</th>\n",
       "      <th>DEVICETYPE_Tablet</th>\n",
       "      <th>DEVICETYPE_Unknown</th>\n",
       "      <th>Domian</th>\n",
       "    </tr>\n",
       "  </thead>\n",
       "  <tbody>\n",
       "    <tr>\n",
       "      <th>0</th>\n",
       "      <td>2</td>\n",
       "      <td>22183</td>\n",
       "      <td>3</td>\n",
       "      <td>1</td>\n",
       "      <td>General|Endocrine|False|Medicine|Surgery|Urolo...</td>\n",
       "      <td>NaN</td>\n",
       "      <td>0.0</td>\n",
       "      <td>72</td>\n",
       "      <td>20</td>\n",
       "      <td>170</td>\n",
       "      <td>173</td>\n",
       "      <td>0</td>\n",
       "      <td>22</td>\n",
       "      <td>7</td>\n",
       "      <td>3</td>\n",
       "      <td>1</td>\n",
       "      <td>0</td>\n",
       "      <td>0</td>\n",
       "      <td>0</td>\n",
       "      <td>2</td>\n",
       "    </tr>\n",
       "  </tbody>\n",
       "</table>\n",
       "</div>"
      ],
      "text/plain": [
       "   PLATFORM_ID  USERPLATFORMUID  PLATFORMTYPE  CHANNELTYPE  \\\n",
       "0            2            22183             3            1   \n",
       "\n",
       "                                            KEYWORDS TAXONOMY  IS_HCP  \\\n",
       "0  General|Endocrine|False|Medicine|Surgery|Urolo...      NaN     0.0   \n",
       "\n",
       "   URL_LENGTH  KEYWORDS_LENGTH  IP_segment_1  IP_segment_2  IP_segment_3  \\\n",
       "0          72               20           170           173             0   \n",
       "\n",
       "   IP_segment_4  OperatingSystem  Browser  DEVICETYPE_Desktop  \\\n",
       "0            22                7        3                   1   \n",
       "\n",
       "   DEVICETYPE_Mobile  DEVICETYPE_Tablet  DEVICETYPE_Unknown  Domian  \n",
       "0                  0                  0                   0       2  "
      ]
     },
     "execution_count": 36,
     "metadata": {},
     "output_type": "execute_result"
    }
   ],
   "source": [
    "\n",
    "train_df.head(1)"
   ]
  },
  {
   "cell_type": "code",
   "execution_count": 37,
   "id": "16590db7",
   "metadata": {},
   "outputs": [],
   "source": [
    "train_df['IS_HCP'] = train_df['IS_HCP'].astype(int)"
   ]
  },
  {
   "cell_type": "code",
   "execution_count": 38,
   "id": "bceb1f90",
   "metadata": {},
   "outputs": [],
   "source": [
    "# Handling missing values in 'Taxonomy' based on 'IS_HCP' values\n",
    "train_df.loc[train_df['IS_HCP'] == 0, 'TAXONOMY'] = train_df.loc[train_df['IS_HCP'] == 0, 'TAXONOMY'].fillna('Unknown')\n",
    "\n",
    "# Optional: Replace NaN values for HCP with a placeholder if needed\n",
    "train_df.loc[train_df['IS_HCP'] == 1, 'TAXONOMY'] = train_df.loc[train_df['IS_HCP'] == 1, 'TAXONOMY'].fillna('Not Applicable')"
   ]
  },
  {
   "cell_type": "code",
   "execution_count": 39,
   "id": "5f5cda95",
   "metadata": {},
   "outputs": [],
   "source": [
    "train_df['TAXONOMY'] = label_encoder.fit_transform(train_df['TAXONOMY'])"
   ]
  },
  {
   "cell_type": "code",
   "execution_count": 40,
   "id": "4967639f",
   "metadata": {},
   "outputs": [],
   "source": [
    "train_df = train_df.drop('KEYWORDS',axis=1)\n",
    "test_df = test_df.drop('KEYWORDS',axis=1)"
   ]
  },
  {
   "cell_type": "code",
   "execution_count": 41,
   "id": "ccc8a031",
   "metadata": {},
   "outputs": [
    {
     "data": {
      "text/html": [
       "<div>\n",
       "<style scoped>\n",
       "    .dataframe tbody tr th:only-of-type {\n",
       "        vertical-align: middle;\n",
       "    }\n",
       "\n",
       "    .dataframe tbody tr th {\n",
       "        vertical-align: top;\n",
       "    }\n",
       "\n",
       "    .dataframe thead th {\n",
       "        text-align: right;\n",
       "    }\n",
       "</style>\n",
       "<table border=\"1\" class=\"dataframe\">\n",
       "  <thead>\n",
       "    <tr style=\"text-align: right;\">\n",
       "      <th></th>\n",
       "      <th>PLATFORM_ID</th>\n",
       "      <th>USERPLATFORMUID</th>\n",
       "      <th>PLATFORMTYPE</th>\n",
       "      <th>CHANNELTYPE</th>\n",
       "      <th>TAXONOMY</th>\n",
       "      <th>IS_HCP</th>\n",
       "      <th>URL_LENGTH</th>\n",
       "      <th>KEYWORDS_LENGTH</th>\n",
       "      <th>IP_segment_1</th>\n",
       "      <th>IP_segment_2</th>\n",
       "      <th>IP_segment_3</th>\n",
       "      <th>IP_segment_4</th>\n",
       "      <th>OperatingSystem</th>\n",
       "      <th>Browser</th>\n",
       "      <th>DEVICETYPE_Desktop</th>\n",
       "      <th>DEVICETYPE_Mobile</th>\n",
       "      <th>DEVICETYPE_Tablet</th>\n",
       "      <th>DEVICETYPE_Unknown</th>\n",
       "      <th>Domian</th>\n",
       "    </tr>\n",
       "  </thead>\n",
       "  <tbody>\n",
       "    <tr>\n",
       "      <th>0</th>\n",
       "      <td>2</td>\n",
       "      <td>22183</td>\n",
       "      <td>3</td>\n",
       "      <td>1</td>\n",
       "      <td>208</td>\n",
       "      <td>0</td>\n",
       "      <td>72</td>\n",
       "      <td>20</td>\n",
       "      <td>170</td>\n",
       "      <td>173</td>\n",
       "      <td>0</td>\n",
       "      <td>22</td>\n",
       "      <td>7</td>\n",
       "      <td>3</td>\n",
       "      <td>1</td>\n",
       "      <td>0</td>\n",
       "      <td>0</td>\n",
       "      <td>0</td>\n",
       "      <td>2</td>\n",
       "    </tr>\n",
       "  </tbody>\n",
       "</table>\n",
       "</div>"
      ],
      "text/plain": [
       "   PLATFORM_ID  USERPLATFORMUID  PLATFORMTYPE  CHANNELTYPE  TAXONOMY  IS_HCP  \\\n",
       "0            2            22183             3            1       208       0   \n",
       "\n",
       "   URL_LENGTH  KEYWORDS_LENGTH  IP_segment_1  IP_segment_2  IP_segment_3  \\\n",
       "0          72               20           170           173             0   \n",
       "\n",
       "   IP_segment_4  OperatingSystem  Browser  DEVICETYPE_Desktop  \\\n",
       "0            22                7        3                   1   \n",
       "\n",
       "   DEVICETYPE_Mobile  DEVICETYPE_Tablet  DEVICETYPE_Unknown  Domian  \n",
       "0                  0                  0                   0       2  "
      ]
     },
     "execution_count": 41,
     "metadata": {},
     "output_type": "execute_result"
    }
   ],
   "source": [
    "train_df.head(1)\n"
   ]
  },
  {
   "cell_type": "code",
   "execution_count": 42,
   "id": "05677b54",
   "metadata": {},
   "outputs": [
    {
     "data": {
      "text/plain": [
       "Index(['PLATFORM_ID', 'USERPLATFORMUID', 'PLATFORMTYPE', 'CHANNELTYPE',\n",
       "       'TAXONOMY', 'IS_HCP', 'URL_LENGTH', 'KEYWORDS_LENGTH', 'IP_segment_1',\n",
       "       'IP_segment_2', 'IP_segment_3', 'IP_segment_4', 'OperatingSystem',\n",
       "       'Browser', 'DEVICETYPE_Desktop', 'DEVICETYPE_Mobile',\n",
       "       'DEVICETYPE_Tablet', 'DEVICETYPE_Unknown', 'Domian'],\n",
       "      dtype='object')"
      ]
     },
     "execution_count": 42,
     "metadata": {},
     "output_type": "execute_result"
    }
   ],
   "source": [
    "train_df.columns"
   ]
  },
  {
   "cell_type": "code",
   "execution_count": 43,
   "id": "a703b983",
   "metadata": {},
   "outputs": [
    {
     "data": {
      "text/plain": [
       "Index(['ID', 'PLATFORM_ID', 'USERPLATFORMUID', 'PLATFORMTYPE', 'CHANNELTYPE',\n",
       "       'URL_LENGTH', 'KEYWORDS_LENGTH', 'IP_segment_1', 'IP_segment_2',\n",
       "       'IP_segment_3', 'IP_segment_4', 'OperatingSystem', 'Browser',\n",
       "       'DEVICETYPE_Desktop', 'DEVICETYPE_Mobile', 'DEVICETYPE_Tablet',\n",
       "       'DEVICETYPE_Unknown', 'Domian'],\n",
       "      dtype='object')"
      ]
     },
     "execution_count": 43,
     "metadata": {},
     "output_type": "execute_result"
    }
   ],
   "source": [
    "test_df.columns"
   ]
  },
  {
   "cell_type": "code",
   "execution_count": 44,
   "id": "82201672",
   "metadata": {},
   "outputs": [
    {
     "data": {
      "text/plain": [
       "PLATFORM_ID           0\n",
       "USERPLATFORMUID       0\n",
       "PLATFORMTYPE          0\n",
       "CHANNELTYPE           0\n",
       "TAXONOMY              0\n",
       "IS_HCP                0\n",
       "URL_LENGTH            0\n",
       "KEYWORDS_LENGTH       0\n",
       "IP_segment_1          0\n",
       "IP_segment_2          0\n",
       "IP_segment_3          0\n",
       "IP_segment_4          0\n",
       "OperatingSystem       0\n",
       "Browser               0\n",
       "DEVICETYPE_Desktop    0\n",
       "DEVICETYPE_Mobile     0\n",
       "DEVICETYPE_Tablet     0\n",
       "DEVICETYPE_Unknown    0\n",
       "Domian                0\n",
       "dtype: int64"
      ]
     },
     "execution_count": 44,
     "metadata": {},
     "output_type": "execute_result"
    }
   ],
   "source": [
    "train_df.isnull().sum()"
   ]
  },
  {
   "cell_type": "markdown",
   "id": "4a8d88d9",
   "metadata": {},
   "source": [
    "#### If we observe now there are  no null values in the data"
   ]
  },
  {
   "cell_type": "markdown",
   "id": "b456e4e3",
   "metadata": {},
   "source": [
    "### Model Training"
   ]
  },
  {
   "cell_type": "code",
   "execution_count": 45,
   "id": "a423193c",
   "metadata": {},
   "outputs": [],
   "source": [
    "X = train_df.drop(['IS_HCP', 'TAXONOMY'], axis=1)\n",
    "y_hcp = train_df['IS_HCP']\n",
    "y_taxonomy = train_df['TAXONOMY']"
   ]
  },
  {
   "cell_type": "markdown",
   "id": "686a116e",
   "metadata": {},
   "source": [
    "#### Splitting the dataset"
   ]
  },
  {
   "cell_type": "code",
   "execution_count": 46,
   "id": "7f8fac30",
   "metadata": {},
   "outputs": [],
   "source": [
    "X_train, X_val, y_hcp_train, y_hcp_val, y_taxonomy_train, y_taxonomy_val = train_test_split(X, y_hcp, y_taxonomy, test_size=0.2, random_state=42)"
   ]
  },
  {
   "cell_type": "markdown",
   "id": "b56b2b5d",
   "metadata": {},
   "source": [
    "#### RandomForestClassifier"
   ]
  },
  {
   "cell_type": "code",
   "execution_count": 47,
   "id": "f4855918",
   "metadata": {},
   "outputs": [
    {
     "data": {
      "text/html": [
       "<style>#sk-container-id-1 {color: black;background-color: white;}#sk-container-id-1 pre{padding: 0;}#sk-container-id-1 div.sk-toggleable {background-color: white;}#sk-container-id-1 label.sk-toggleable__label {cursor: pointer;display: block;width: 100%;margin-bottom: 0;padding: 0.3em;box-sizing: border-box;text-align: center;}#sk-container-id-1 label.sk-toggleable__label-arrow:before {content: \"▸\";float: left;margin-right: 0.25em;color: #696969;}#sk-container-id-1 label.sk-toggleable__label-arrow:hover:before {color: black;}#sk-container-id-1 div.sk-estimator:hover label.sk-toggleable__label-arrow:before {color: black;}#sk-container-id-1 div.sk-toggleable__content {max-height: 0;max-width: 0;overflow: hidden;text-align: left;background-color: #f0f8ff;}#sk-container-id-1 div.sk-toggleable__content pre {margin: 0.2em;color: black;border-radius: 0.25em;background-color: #f0f8ff;}#sk-container-id-1 input.sk-toggleable__control:checked~div.sk-toggleable__content {max-height: 200px;max-width: 100%;overflow: auto;}#sk-container-id-1 input.sk-toggleable__control:checked~label.sk-toggleable__label-arrow:before {content: \"▾\";}#sk-container-id-1 div.sk-estimator input.sk-toggleable__control:checked~label.sk-toggleable__label {background-color: #d4ebff;}#sk-container-id-1 div.sk-label input.sk-toggleable__control:checked~label.sk-toggleable__label {background-color: #d4ebff;}#sk-container-id-1 input.sk-hidden--visually {border: 0;clip: rect(1px 1px 1px 1px);clip: rect(1px, 1px, 1px, 1px);height: 1px;margin: -1px;overflow: hidden;padding: 0;position: absolute;width: 1px;}#sk-container-id-1 div.sk-estimator {font-family: monospace;background-color: #f0f8ff;border: 1px dotted black;border-radius: 0.25em;box-sizing: border-box;margin-bottom: 0.5em;}#sk-container-id-1 div.sk-estimator:hover {background-color: #d4ebff;}#sk-container-id-1 div.sk-parallel-item::after {content: \"\";width: 100%;border-bottom: 1px solid gray;flex-grow: 1;}#sk-container-id-1 div.sk-label:hover label.sk-toggleable__label {background-color: #d4ebff;}#sk-container-id-1 div.sk-serial::before {content: \"\";position: absolute;border-left: 1px solid gray;box-sizing: border-box;top: 0;bottom: 0;left: 50%;z-index: 0;}#sk-container-id-1 div.sk-serial {display: flex;flex-direction: column;align-items: center;background-color: white;padding-right: 0.2em;padding-left: 0.2em;position: relative;}#sk-container-id-1 div.sk-item {position: relative;z-index: 1;}#sk-container-id-1 div.sk-parallel {display: flex;align-items: stretch;justify-content: center;background-color: white;position: relative;}#sk-container-id-1 div.sk-item::before, #sk-container-id-1 div.sk-parallel-item::before {content: \"\";position: absolute;border-left: 1px solid gray;box-sizing: border-box;top: 0;bottom: 0;left: 50%;z-index: -1;}#sk-container-id-1 div.sk-parallel-item {display: flex;flex-direction: column;z-index: 1;position: relative;background-color: white;}#sk-container-id-1 div.sk-parallel-item:first-child::after {align-self: flex-end;width: 50%;}#sk-container-id-1 div.sk-parallel-item:last-child::after {align-self: flex-start;width: 50%;}#sk-container-id-1 div.sk-parallel-item:only-child::after {width: 0;}#sk-container-id-1 div.sk-dashed-wrapped {border: 1px dashed gray;margin: 0 0.4em 0.5em 0.4em;box-sizing: border-box;padding-bottom: 0.4em;background-color: white;}#sk-container-id-1 div.sk-label label {font-family: monospace;font-weight: bold;display: inline-block;line-height: 1.2em;}#sk-container-id-1 div.sk-label-container {text-align: center;}#sk-container-id-1 div.sk-container {/* jupyter's `normalize.less` sets `[hidden] { display: none; }` but bootstrap.min.css set `[hidden] { display: none !important; }` so we also need the `!important` here to be able to override the default hidden behavior on the sphinx rendered scikit-learn.org. See: https://github.com/scikit-learn/scikit-learn/issues/21755 */display: inline-block !important;position: relative;}#sk-container-id-1 div.sk-text-repr-fallback {display: none;}</style><div id=\"sk-container-id-1\" class=\"sk-top-container\"><div class=\"sk-text-repr-fallback\"><pre>RandomForestClassifier()</pre><b>In a Jupyter environment, please rerun this cell to show the HTML representation or trust the notebook. <br />On GitHub, the HTML representation is unable to render, please try loading this page with nbviewer.org.</b></div><div class=\"sk-container\" hidden><div class=\"sk-item\"><div class=\"sk-estimator sk-toggleable\"><input class=\"sk-toggleable__control sk-hidden--visually\" id=\"sk-estimator-id-1\" type=\"checkbox\" checked><label for=\"sk-estimator-id-1\" class=\"sk-toggleable__label sk-toggleable__label-arrow\">RandomForestClassifier</label><div class=\"sk-toggleable__content\"><pre>RandomForestClassifier()</pre></div></div></div></div></div>"
      ],
      "text/plain": [
       "RandomForestClassifier()"
      ]
     },
     "execution_count": 47,
     "metadata": {},
     "output_type": "execute_result"
    }
   ],
   "source": [
    "model_hcp = RandomForestClassifier()\n",
    "model_hcp.fit(X_train, y_hcp_train)"
   ]
  },
  {
   "cell_type": "code",
   "execution_count": 48,
   "id": "0ad384d5",
   "metadata": {},
   "outputs": [
    {
     "data": {
      "text/html": [
       "<style>#sk-container-id-2 {color: black;background-color: white;}#sk-container-id-2 pre{padding: 0;}#sk-container-id-2 div.sk-toggleable {background-color: white;}#sk-container-id-2 label.sk-toggleable__label {cursor: pointer;display: block;width: 100%;margin-bottom: 0;padding: 0.3em;box-sizing: border-box;text-align: center;}#sk-container-id-2 label.sk-toggleable__label-arrow:before {content: \"▸\";float: left;margin-right: 0.25em;color: #696969;}#sk-container-id-2 label.sk-toggleable__label-arrow:hover:before {color: black;}#sk-container-id-2 div.sk-estimator:hover label.sk-toggleable__label-arrow:before {color: black;}#sk-container-id-2 div.sk-toggleable__content {max-height: 0;max-width: 0;overflow: hidden;text-align: left;background-color: #f0f8ff;}#sk-container-id-2 div.sk-toggleable__content pre {margin: 0.2em;color: black;border-radius: 0.25em;background-color: #f0f8ff;}#sk-container-id-2 input.sk-toggleable__control:checked~div.sk-toggleable__content {max-height: 200px;max-width: 100%;overflow: auto;}#sk-container-id-2 input.sk-toggleable__control:checked~label.sk-toggleable__label-arrow:before {content: \"▾\";}#sk-container-id-2 div.sk-estimator input.sk-toggleable__control:checked~label.sk-toggleable__label {background-color: #d4ebff;}#sk-container-id-2 div.sk-label input.sk-toggleable__control:checked~label.sk-toggleable__label {background-color: #d4ebff;}#sk-container-id-2 input.sk-hidden--visually {border: 0;clip: rect(1px 1px 1px 1px);clip: rect(1px, 1px, 1px, 1px);height: 1px;margin: -1px;overflow: hidden;padding: 0;position: absolute;width: 1px;}#sk-container-id-2 div.sk-estimator {font-family: monospace;background-color: #f0f8ff;border: 1px dotted black;border-radius: 0.25em;box-sizing: border-box;margin-bottom: 0.5em;}#sk-container-id-2 div.sk-estimator:hover {background-color: #d4ebff;}#sk-container-id-2 div.sk-parallel-item::after {content: \"\";width: 100%;border-bottom: 1px solid gray;flex-grow: 1;}#sk-container-id-2 div.sk-label:hover label.sk-toggleable__label {background-color: #d4ebff;}#sk-container-id-2 div.sk-serial::before {content: \"\";position: absolute;border-left: 1px solid gray;box-sizing: border-box;top: 0;bottom: 0;left: 50%;z-index: 0;}#sk-container-id-2 div.sk-serial {display: flex;flex-direction: column;align-items: center;background-color: white;padding-right: 0.2em;padding-left: 0.2em;position: relative;}#sk-container-id-2 div.sk-item {position: relative;z-index: 1;}#sk-container-id-2 div.sk-parallel {display: flex;align-items: stretch;justify-content: center;background-color: white;position: relative;}#sk-container-id-2 div.sk-item::before, #sk-container-id-2 div.sk-parallel-item::before {content: \"\";position: absolute;border-left: 1px solid gray;box-sizing: border-box;top: 0;bottom: 0;left: 50%;z-index: -1;}#sk-container-id-2 div.sk-parallel-item {display: flex;flex-direction: column;z-index: 1;position: relative;background-color: white;}#sk-container-id-2 div.sk-parallel-item:first-child::after {align-self: flex-end;width: 50%;}#sk-container-id-2 div.sk-parallel-item:last-child::after {align-self: flex-start;width: 50%;}#sk-container-id-2 div.sk-parallel-item:only-child::after {width: 0;}#sk-container-id-2 div.sk-dashed-wrapped {border: 1px dashed gray;margin: 0 0.4em 0.5em 0.4em;box-sizing: border-box;padding-bottom: 0.4em;background-color: white;}#sk-container-id-2 div.sk-label label {font-family: monospace;font-weight: bold;display: inline-block;line-height: 1.2em;}#sk-container-id-2 div.sk-label-container {text-align: center;}#sk-container-id-2 div.sk-container {/* jupyter's `normalize.less` sets `[hidden] { display: none; }` but bootstrap.min.css set `[hidden] { display: none !important; }` so we also need the `!important` here to be able to override the default hidden behavior on the sphinx rendered scikit-learn.org. See: https://github.com/scikit-learn/scikit-learn/issues/21755 */display: inline-block !important;position: relative;}#sk-container-id-2 div.sk-text-repr-fallback {display: none;}</style><div id=\"sk-container-id-2\" class=\"sk-top-container\"><div class=\"sk-text-repr-fallback\"><pre>RandomForestClassifier()</pre><b>In a Jupyter environment, please rerun this cell to show the HTML representation or trust the notebook. <br />On GitHub, the HTML representation is unable to render, please try loading this page with nbviewer.org.</b></div><div class=\"sk-container\" hidden><div class=\"sk-item\"><div class=\"sk-estimator sk-toggleable\"><input class=\"sk-toggleable__control sk-hidden--visually\" id=\"sk-estimator-id-2\" type=\"checkbox\" checked><label for=\"sk-estimator-id-2\" class=\"sk-toggleable__label sk-toggleable__label-arrow\">RandomForestClassifier</label><div class=\"sk-toggleable__content\"><pre>RandomForestClassifier()</pre></div></div></div></div></div>"
      ],
      "text/plain": [
       "RandomForestClassifier()"
      ]
     },
     "execution_count": 48,
     "metadata": {},
     "output_type": "execute_result"
    }
   ],
   "source": [
    "# Train the model for taxonomy prediction\n",
    "model_taxonomy = RandomForestClassifier()\n",
    "model_taxonomy.fit(X_train, y_taxonomy_train)\n",
    "\n",
    "\n"
   ]
  },
  {
   "cell_type": "code",
   "execution_count": 49,
   "id": "1d033a7f",
   "metadata": {},
   "outputs": [],
   "source": [
    "predictions_hcp = model_hcp.predict(X_val)\n",
    "predictions_taxonomy = model_taxonomy.predict(X_val)"
   ]
  },
  {
   "cell_type": "code",
   "execution_count": 57,
   "id": "4d62d0d0",
   "metadata": {},
   "outputs": [
    {
     "name": "stdout",
     "output_type": "stream",
     "text": [
      "Accuracy for HCP prediction: 0.9858685157552883\n",
      "Accuracy for taxonomy prediction: 0.911261300798736\n"
     ]
    }
   ],
   "source": [
    "accuracy_hcp = accuracy_score(y_hcp_val, predictions_hcp)\n",
    "accuracy_taxonomy = accuracy_score(y_taxonomy_val, predictions_taxonomy)\n",
    "\n",
    "\n",
    "\n",
    "print('Accuracy for HCP prediction:', accuracy_hcp)\n",
    "print('Accuracy for taxonomy prediction:', accuracy_taxonomy)\n"
   ]
  },
  {
   "cell_type": "code",
   "execution_count": 58,
   "id": "30a72aa2",
   "metadata": {},
   "outputs": [
    {
     "name": "stdout",
     "output_type": "stream",
     "text": [
      "Accuracy Percent of HCP is : 98.59%\n"
     ]
    }
   ],
   "source": [
    "accuracy_percentage = accuracy_hcp * 100\n",
    "\n",
    "# Display the accuracy in percentages\n",
    "print('Accuracy Percent of HCP is : {:.2f}%'.format(accuracy_percentage))"
   ]
  },
  {
   "cell_type": "code",
   "execution_count": 59,
   "id": "084b0dca",
   "metadata": {},
   "outputs": [
    {
     "name": "stdout",
     "output_type": "stream",
     "text": [
      "Accuracy Percent of Taxonomy is : 91.13%\n"
     ]
    }
   ],
   "source": [
    "accuracy_percentage = accuracy_taxonomy * 100\n",
    "\n",
    "# Display the accuracy in percentages\n",
    "print('Accuracy Percent of Taxonomy is : {:.2f}%'.format(accuracy_percentage))"
   ]
  },
  {
   "cell_type": "markdown",
   "id": "9d5349cd",
   "metadata": {},
   "source": [
    "#### Here I used the randomforest classifier model and it is giving the 98% accuracy for the HCP and 91% accuracy for the Taxonomy"
   ]
  },
  {
   "cell_type": "markdown",
   "id": "6995dbae",
   "metadata": {},
   "source": [
    "### Test_Data"
   ]
  },
  {
   "cell_type": "code",
   "execution_count": 60,
   "id": "9c46944a",
   "metadata": {},
   "outputs": [],
   "source": [
    "output_data = test_df[['ID']].copy()\n",
    "output_data1 = test_df[['ID']].copy()"
   ]
  },
  {
   "cell_type": "code",
   "execution_count": 61,
   "id": "cd213008",
   "metadata": {},
   "outputs": [],
   "source": [
    " test_df = test_df.drop('ID',axis=1)"
   ]
  },
  {
   "cell_type": "code",
   "execution_count": 62,
   "id": "fc6283fd",
   "metadata": {},
   "outputs": [],
   "source": [
    "predictions_hcp_test = model_hcp.predict(test_df)\n",
    "predictions_taxonomy_test = model_taxonomy.predict(test_df)"
   ]
  },
  {
   "cell_type": "code",
   "execution_count": 63,
   "id": "15734d6b",
   "metadata": {},
   "outputs": [],
   "source": [
    "\n",
    "\n",
    "output_data['IS_HCP'] = predictions_hcp_test\n",
    "\n",
    "output_data.to_csv('Hcp_predictions.csv', index=False)\n"
   ]
  },
  {
   "cell_type": "code",
   "execution_count": 64,
   "id": "0fa9502f",
   "metadata": {},
   "outputs": [],
   "source": [
    "# Save predictions to a CSV file\n",
    "\n",
    "\n",
    "output_data1['IS_HCP'] = predictions_hcp_test\n",
    "output_data1['TAXONOMY'] = predictions_taxonomy_test\n",
    "\n",
    "\n",
    "output_data1.to_csv('Taxonomy_predictions.csv', index=False)"
   ]
  },
  {
   "cell_type": "code",
   "execution_count": 65,
   "id": "85c31f41",
   "metadata": {},
   "outputs": [],
   "source": [
    " Result  = pd.read_csv('Taxonomy_predictions.csv')"
   ]
  },
  {
   "cell_type": "code",
   "execution_count": 66,
   "id": "f7215e1b",
   "metadata": {},
   "outputs": [],
   "source": [
    "Result['TAXONOMY'] = label_encoder.inverse_transform(Result['TAXONOMY'])"
   ]
  },
  {
   "cell_type": "code",
   "execution_count": 67,
   "id": "73750ff7",
   "metadata": {},
   "outputs": [],
   "source": [
    " Result.head(5)"
   ]
  },
  {
   "cell_type": "code",
   "execution_count": 68,
   "id": "1df5acb6",
   "metadata": {},
   "outputs": [],
   "source": [
    " Result.to_csv('Actual_Taxonomy_predictions.csv', index=False)"
   ]
  },
  {
   "cell_type": "code",
   "execution_count": null,
   "id": "f2bc780c",
   "metadata": {},
   "outputs": [],
   "source": []
  }
 ],
 "metadata": {
  "kernelspec": {
   "display_name": "Python 3",
   "language": "python",
   "name": "python3"
  },
  "language_info": {
   "codemirror_mode": {
    "name": "ipython",
    "version": 3
   },
   "file_extension": ".py",
   "mimetype": "text/x-python",
   "name": "python",
   "nbconvert_exporter": "python",
   "pygments_lexer": "ipython3",
   "version": "3.8.8"
  }
 },
 "nbformat": 4,
 "nbformat_minor": 5
}
